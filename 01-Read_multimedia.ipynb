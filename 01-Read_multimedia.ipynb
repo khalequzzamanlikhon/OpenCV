{
 "cells": [
  {
   "cell_type": "code",
   "execution_count": 2,
   "metadata": {},
   "outputs": [
    {
     "name": "stdout",
     "output_type": "stream",
     "text": [
      "4.8.1\n"
     ]
    }
   ],
   "source": [
    "import cv2\n",
    "print(cv2.__version__)"
   ]
  },
  {
   "cell_type": "markdown",
   "metadata": {},
   "source": [
    "### Read Images"
   ]
  },
  {
   "cell_type": "code",
   "execution_count": 3,
   "metadata": {},
   "outputs": [],
   "source": [
    "\n",
    "# Load and show image\n",
    "img = cv2.imread(\"images/mp10.jpg\")\n",
    "cv2.imshow(\"Original Image\", img)\n",
    "\n",
    "# Wait for a key event and close the window\n",
    "cv2.waitKey(0)\n",
    "cv2.destroyAllWindows()"
   ]
  },
  {
   "cell_type": "markdown",
   "metadata": {},
   "source": [
    "- waitkey : waits for a key event. The argument '0' means that it will wait until a key is pressed.\n",
    "- destroyAllWindows(): used to close all opencv windows when any key is pressed."
   ]
  },
  {
   "cell_type": "markdown",
   "metadata": {},
   "source": [
    "Read Videos"
   ]
  },
  {
   "cell_type": "code",
   "execution_count": 5,
   "metadata": {},
   "outputs": [],
   "source": [
    "\n",
    "frameWidth = 640\n",
    "frameHeight = 480\n",
    "cap = cv2.VideoCapture(\"videos/diabetes-detection.mp4\")\n",
    "while True:\n",
    "    success, img = cap.read()\n",
    "    img = cv2.resize(img, (frameWidth, frameHeight))\n",
    "    cv2.imshow(\"Result\", img)\n",
    "    if cv2.waitKey(1) & 0xFF == ord('q'):\n",
    "        break"
   ]
  },
  {
   "cell_type": "markdown",
   "metadata": {},
   "source": [
    "- cap: initialize video capture object using the video file\n",
    "- loop: reading and resizing the video\n",
    "  - continuously reads frames from the video using cap.read(). The success variable(boolean) indicates whether the frame was successfully read. The img variable stores the read frame. The frame is then resized using cv2.resize to match the specified frameWidth and frameHeight.\n",
    "- if condition: waits for a key event(with a delay of 1 milisecond) and checks if the pressed key is \"q\"."
   ]
  },
  {
   "cell_type": "code",
   "execution_count": 6,
   "metadata": {},
   "outputs": [],
   "source": [
    "#### Read Webcam\n",
    "frame_width=640\n",
    "frame_height=480\n",
    "cap=cv2.VideoCapture(0) # default webcam\n",
    "cap.set(3,frame_width)\n",
    "cap.set(4,frame_height)\n",
    "cap.set(10,150) # brightness setting\n",
    "while True:\n",
    "    success, img=cap.read()\n",
    "    cv2.imshow(\"result\",img)\n",
    "    if cv2.waitKey(1) & 0xFF==ord('q'):\n",
    "        break\n",
    "\n"
   ]
  },
  {
   "cell_type": "markdown",
   "metadata": {},
   "source": [
    "- VideoCapture(0) : 0 for default. if multiple then we need to give the value. For example 1,2 and so on\n",
    "- 3,4,10 are indexes for video capture\n"
   ]
  }
 ],
 "metadata": {
  "kernelspec": {
   "display_name": "Python 3",
   "language": "python",
   "name": "python3"
  },
  "language_info": {
   "codemirror_mode": {
    "name": "ipython",
    "version": 3
   },
   "file_extension": ".py",
   "mimetype": "text/x-python",
   "name": "python",
   "nbconvert_exporter": "python",
   "pygments_lexer": "ipython3",
   "version": "3.11.3"
  }
 },
 "nbformat": 4,
 "nbformat_minor": 2
}
